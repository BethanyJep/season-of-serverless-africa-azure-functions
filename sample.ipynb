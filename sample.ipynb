{
 "metadata": {
  "language_info": {
   "codemirror_mode": {
    "name": "ipython",
    "version": 3
   },
   "file_extension": ".py",
   "mimetype": "text/x-python",
   "name": "python",
   "nbconvert_exporter": "python",
   "pygments_lexer": "ipython3",
   "version": "3.8.3-final"
  },
  "orig_nbformat": 2,
  "kernelspec": {
   "name": "python3",
   "display_name": "Python 3",
   "language": "python"
  }
 },
 "nbformat": 4,
 "nbformat_minor": 2,
 "cells": [
  {
   "cell_type": "code",
   "execution_count": 3,
   "metadata": {},
   "outputs": [
    {
     "output_type": "execute_result",
     "data": {
      "text/plain": [
       "{'id': '1',\n",
       " 'localSoupName': '',\n",
       " 'englishSoupName': '',\n",
       " 'affordability': '',\n",
       " 'complexity': '',\n",
       " 'imageUrl': '',\n",
       " 'duration': 60,\n",
       " 'ingredients': ['', '', ''],\n",
       " 'steps': ['', '', ''],\n",
       " 'type': 'Feature',\n",
       " 'geometry': {'type': 'Point'},\n",
       " 'properties': {'name': 'Dinagat Islands'},\n",
       " 'country': 'Nigeria',\n",
       " 'states': ['Benue',\n",
       "  'Kogi',\n",
       "  'Kwara',\n",
       "  'Nasarawa',\n",
       "  'Niger',\n",
       "  'Plateau',\n",
       "  'Federal Capital Territory'],\n",
       " 'region': 'North Central',\n",
       " 'regionName': 'Hausa'}"
      ]
     },
     "metadata": {},
     "execution_count": 3
    }
   ],
   "source": [
    "import json\n",
    "def fetch_meal_data(id: int, key: str= None) -> any:\n",
    "    '''\n",
    "    Fetch specific data based on Meals JSON\n",
    "    '''\n",
    "    with open(\"meal.json\") as json_file:\n",
    "        data = json.load(json_file, strict=False)\n",
    "        \n",
    "    id = id - 1\n",
    "    if key == None:\n",
    "        result_data = data[id]\n",
    "        return result_data\n",
    "    \n",
    "    # result_data = data[id][key]\n",
    "    # return result_data \n",
    "\n",
    "fetch_meal_data(1)"
   ]
  }
 ]
}